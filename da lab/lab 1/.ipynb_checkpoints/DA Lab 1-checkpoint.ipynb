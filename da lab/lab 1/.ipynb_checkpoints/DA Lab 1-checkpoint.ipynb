{
 "cells": [
  {
   "cell_type": "code",
   "execution_count": 42,
   "metadata": {},
   "outputs": [
    {
     "ename": "SyntaxError",
     "evalue": "invalid syntax (<ipython-input-42-5680b3f68f0b>, line 12)",
     "output_type": "error",
     "traceback": [
      "\u001b[1;36m  File \u001b[1;32m\"<ipython-input-42-5680b3f68f0b>\"\u001b[1;36m, line \u001b[1;32m12\u001b[0m\n\u001b[1;33m    for x in\u001b[0m\n\u001b[1;37m             ^\u001b[0m\n\u001b[1;31mSyntaxError\u001b[0m\u001b[1;31m:\u001b[0m invalid syntax\n"
     ]
    }
   ],
   "source": [
    "import pandas as pd\n",
    "import seaborn as sns\n",
    "import matplotlib.pyplot as plt\n",
    "%matplotlib inline\n",
    "mobility = pd.read_csv(\"4.csv\")\n",
    "mobility.head(7)\n",
    "num = mobility[\"Salary\"].max()\n",
    "print(num)\n",
    "num = mobility[\"Salary\"].min()\n",
    "print(num)\n",
    "print(mobility)\n",
    "# for x in \n"
   ]
  },
  {
   "cell_type": "code",
   "execution_count": 21,
   "metadata": {},
   "outputs": [
    {
     "name": "stdout",
     "output_type": "stream",
     "text": [
      "49092.23759713149\n"
     ]
    }
   ],
   "source": [
    "import math\n",
    "num = mobility[\"Salary\"].mean()\n",
    "print(num)"
   ]
  },
  {
   "cell_type": "code",
   "execution_count": 38,
   "metadata": {},
   "outputs": [
    {
     "name": "stdout",
     "output_type": "stream",
     "text": [
      "12001\n",
      "     Series_reference   Salary STATUS                         Subject  \\\n",
      "0         BDCQ.SEA1AA  80078.0      F  Business Data Collection - BDC   \n",
      "1         BDCQ.SEA1AA  78324.0      F  Business Data Collection - BDC   \n",
      "2         BDCQ.SEA1AA  90743.0      F  Business Data Collection - BDC   \n",
      "3         BDCQ.SEA1AA  81780.0      F  Business Data Collection - BDC   \n",
      "4         BDCQ.SEA1AA  79261.0      F  Business Data Collection - BDC   \n",
      "...               ...      ...    ...                             ...   \n",
      "9995    BDCQ.SEE3999A      NaN      C  Business Data Collection - BDC   \n",
      "9996    BDCQ.SEE3999A      NaN      C  Business Data Collection - BDC   \n",
      "9997    BDCQ.SEE3999A      NaN      C  Business Data Collection - BDC   \n",
      "9998    BDCQ.SEE3999A      NaN      C  Business Data Collection - BDC   \n",
      "9999    BDCQ.SEE3999A      NaN      C  Business Data Collection - BDC   \n",
      "\n",
      "                                             Group  \\\n",
      "0                  Industry by employment variable   \n",
      "1                  Industry by employment variable   \n",
      "2                  Industry by employment variable   \n",
      "3                  Industry by employment variable   \n",
      "4                  Industry by employment variable   \n",
      "...                                            ...   \n",
      "9995  Territorial authority by employment variable   \n",
      "9996  Territorial authority by employment variable   \n",
      "9997  Territorial authority by employment variable   \n",
      "9998  Territorial authority by employment variable   \n",
      "9999  Territorial authority by employment variable   \n",
      "\n",
      "                                Industry  \n",
      "0      Agriculture, Forestry and Fishing  \n",
      "1      Agriculture, Forestry and Fishing  \n",
      "2      Agriculture, Forestry and Fishing  \n",
      "3      Agriculture, Forestry and Fishing  \n",
      "4      Agriculture, Forestry and Fishing  \n",
      "...                                  ...  \n",
      "9995  Area Outside Territorial Authority  \n",
      "9996  Area Outside Territorial Authority  \n",
      "9997  Area Outside Territorial Authority  \n",
      "9998  Area Outside Territorial Authority  \n",
      "9999  Area Outside Territorial Authority  \n",
      "\n",
      "[10000 rows x 6 columns]\n"
     ]
    }
   ],
   "source": [
    "import pandas\n",
    "import random\n",
    "\n",
    "filename = \"4.csv\"\n",
    "n = sum(1 for line in open(filename)) - 1 #number of records in file (excludes header)\n",
    "print(n)\n",
    "s = 10000 #desired sample size\n",
    "skip = sorted(random.sample(range(1,n+1),n-s)) #the 0-indexed header will not be included in the skip list\n",
    "df = pandas.read_csv(filename, skiprows=skip)\n",
    "print(df)"
   ]
  },
  {
   "cell_type": "code",
   "execution_count": 39,
   "metadata": {},
   "outputs": [
    {
     "name": "stdout",
     "output_type": "stream",
     "text": [
      "Standard deviation of sample:  8.862788585485104\n",
      "Sample mean:  49978.51645568\n",
      "Population mean:  49092.23759713149\n",
      "Population standard deviation:  155760.09896574347\n",
      "Sample size:  10000\n",
      "Z-score: 0.5690025009186923\n"
     ]
    }
   ],
   "source": [
    "import math\n",
    "num = mobility[\"Salary\"].mean() -df[\"Salary\"].mean()\n",
    "sample_size = 10000\n",
    "den = math.sqrt(sample_size)\n",
    "med = (num*num)/10000\n",
    "standard_population = mobility[\"Salary\"].std()\n",
    "standard_sample = math.sqrt(med)\n",
    "print(\"Standard deviation of sample: \", standard_sample)\n",
    "sample_mean = df[\"Salary\"].mean()\n",
    "population_mean = mobility[\"Salary\"].mean()\n",
    "\n",
    "z_score = (abs(population_mean - sample_mean))/(standard_population/den)\n",
    "print(\"Sample mean: \", sample_mean)\n",
    "print(\"Population mean: \", population_mean)\n",
    "print(\"Population standard deviation: \", standard_population)\n",
    "print(\"Sample size: \", sample_size)\n",
    "print(\"Z-score:\",z_score)\n"
   ]
  },
  {
   "cell_type": "code",
   "execution_count": 24,
   "metadata": {},
   "outputs": [
    {
     "data": {
      "text/plain": [
       "Industry\n",
       "15-19                  76\n",
       "20-24                  76\n",
       "25-29                  76\n",
       "30-34                  76\n",
       "35-39                  76\n",
       "                     ... \n",
       "Westland District     114\n",
       "Whakatane District    114\n",
       "Whanganui District    114\n",
       "Whangarei District    114\n",
       "Wholesale Trade        76\n",
       "Name: Industry, Length: 116, dtype: int64"
      ]
     },
     "execution_count": 24,
     "metadata": {},
     "output_type": "execute_result"
    }
   ],
   "source": [
    "country = mobility.groupby(\"Industry\")\n",
    "country[\"Industry\"].count()"
   ]
  },
  {
   "cell_type": "code",
   "execution_count": 25,
   "metadata": {},
   "outputs": [
    {
     "data": {
      "text/plain": [
       "Subject\n",
       "Business Data Collection - BDC    12001\n",
       "Name: Subject, dtype: int64"
      ]
     },
     "execution_count": 25,
     "metadata": {},
     "output_type": "execute_result"
    }
   ],
   "source": [
    "country = mobility.groupby(\"Subject\")\n",
    "country[\"Subject\"].count()"
   ]
  },
  {
   "cell_type": "code",
   "execution_count": 31,
   "metadata": {},
   "outputs": [
    {
     "data": {
      "text/plain": [
       "Group\n",
       "Age by employment variable                       836\n",
       "Industry by employment variable                 1520\n",
       "Region by employment variable                   1824\n",
       "Sex by employment variable                       152\n",
       "Territorial authority by employment variable    7669\n",
       "Name: Group, dtype: int64"
      ]
     },
     "execution_count": 31,
     "metadata": {},
     "output_type": "execute_result"
    }
   ],
   "source": [
    "country = mobility.groupby(\"Group\")\n",
    "country[\"Group\"].count()"
   ]
  },
  {
   "cell_type": "code",
   "execution_count": 32,
   "metadata": {},
   "outputs": [
    {
     "data": {
      "text/plain": [
       "Series_reference\n",
       "BDCQ.SEA1AA      38\n",
       "BDCQ.SEA1BA      38\n",
       "BDCQ.SEA1CA      38\n",
       "BDCQ.SEA1DA      38\n",
       "BDCQ.SEA1EA      38\n",
       "                 ..\n",
       "BDCQ.SEE3073A    38\n",
       "BDCQ.SEE3074A    38\n",
       "BDCQ.SEE3075A    38\n",
       "BDCQ.SEE3076A    38\n",
       "BDCQ.SEE3999A    29\n",
       "Name: Series_reference, Length: 318, dtype: int64"
      ]
     },
     "execution_count": 32,
     "metadata": {},
     "output_type": "execute_result"
    }
   ],
   "source": [
    "country = mobility.groupby(\"Series_reference\")\n",
    "country[\"Series_reference\"].count()"
   ]
  },
  {
   "cell_type": "code",
   "execution_count": 33,
   "metadata": {},
   "outputs": [
    {
     "data": {
      "text/plain": [
       "STATUS\n",
       "C       31\n",
       "F    11970\n",
       "Name: STATUS, dtype: int64"
      ]
     },
     "execution_count": 33,
     "metadata": {},
     "output_type": "execute_result"
    }
   ],
   "source": [
    "gender= mobility.groupby(\"STATUS\")\n",
    "gender[\"STATUS\"].count()"
   ]
  },
  {
   "cell_type": "code",
   "execution_count": 34,
   "metadata": {},
   "outputs": [
    {
     "data": {
      "text/plain": [
       "Industry\n",
       "15-19                  76\n",
       "20-24                  76\n",
       "25-29                  76\n",
       "30-34                  76\n",
       "35-39                  76\n",
       "                     ... \n",
       "Westland District     114\n",
       "Whakatane District    114\n",
       "Whanganui District    114\n",
       "Whangarei District    114\n",
       "Wholesale Trade        76\n",
       "Name: Industry, Length: 116, dtype: int64"
      ]
     },
     "execution_count": 34,
     "metadata": {},
     "output_type": "execute_result"
    }
   ],
   "source": [
    "country = mobility.groupby(\"Industry\")\n",
    "country[\"Industry\"].count()"
   ]
  },
  {
   "cell_type": "code",
   "execution_count": 35,
   "metadata": {},
   "outputs": [
    {
     "data": {
      "text/plain": [
       "<AxesSubplot:xlabel='STATUS', ylabel='count'>"
      ]
     },
     "execution_count": 35,
     "metadata": {},
     "output_type": "execute_result"
    },
    {
     "data": {
      "image/png": "[encoded data removed]",
      "text/plain": [
       "<Figure size 432x288 with 1 Axes>"
      ]
     },
     "metadata": {
      "needs_background": "light"
     },
     "output_type": "display_data"
    }
   ],
   "source": [
    "sns.countplot(x=mobility.STATUS,data=mobility)"
   ]
  },
  {
   "cell_type": "code",
   "execution_count": 36,
   "metadata": {},
   "outputs": [
    {
     "data": {
      "text/plain": [
       "<AxesSubplot:xlabel='Series_reference', ylabel='count'>"
      ]
     },
     "execution_count": 36,
     "metadata": {},
     "output_type": "execute_result"
    },
    {
     "data": {
      "image/png": "[encoded data removed]",
      "text/plain": [
       "<Figure size 432x288 with 1 Axes>"
      ]
     },
     "metadata": {
      "needs_background": "light"
     },
     "output_type": "display_data"
    }
   ],
   "source": [
    "sns.countplot(x=mobility.Series_reference,data=mobility)"
   ]
  },
  {
   "cell_type": "code",
   "execution_count": 37,
   "metadata": {},
   "outputs": [
    {
     "data": {
      "text/plain": [
       "<AxesSubplot:xlabel='Group', ylabel='count'>"
      ]
     },
     "execution_count": 37,
     "metadata": {},
     "output_type": "execute_result"
    },
    {
     "data": {
      "image/png": "[encoded data removed]",
      "text/plain": [
       "<Figure size 432x288 with 1 Axes>"
      ]
     },
     "metadata": {
      "needs_background": "light"
     },
     "output_type": "display_data"
    }
   ],
   "source": [
    "sns.countplot(x=mobility.Group,data=mobility)"
   ]
  },
  {
   "cell_type": "code",
   "execution_count": 38,
   "metadata": {},
   "outputs": [
    {
     "data": {
      "text/plain": [
       "<AxesSubplot:xlabel='Industry', ylabel='count'>"
      ]
     },
     "execution_count": 38,
     "metadata": {},
     "output_type": "execute_result"
    },
    {
     "data": {
      "image/png": "[encoded data removed]",
      "text/plain": [
       "<Figure size 432x288 with 1 Axes>"
      ]
     },
     "metadata": {
      "needs_background": "light"
     },
     "output_type": "display_data"
    }
   ],
   "source": [
    "sns.countplot(x=mobility.Industry,data=mobility)"
   ]
  },
  {
   "cell_type": "code",
   "execution_count": null,
   "metadata": {},
   "outputs": [],
   "source": []
  },
  {
   "cell_type": "code",
   "execution_count": 39,
   "metadata": {},
   "outputs": [
    {
     "data": {
      "text/html": [
       "<div>\n",
       "<style scoped>\n",
       "    .dataframe tbody tr th:only-of-type {\n",
       "        vertical-align: middle;\n",
       "    }\n",
       "\n",
       "    .dataframe tbody tr th {\n",
       "        vertical-align: top;\n",
       "    }\n",
       "\n",
       "    .dataframe thead th {\n",
       "        text-align: right;\n",
       "    }\n",
       "</style>\n",
       "<table border=\"1\" class=\"dataframe\">\n",
       "  <thead>\n",
       "    <tr style=\"text-align: right;\">\n",
       "      <th></th>\n",
       "      <th>Salary</th>\n",
       "    </tr>\n",
       "  </thead>\n",
       "  <tbody>\n",
       "    <tr>\n",
       "      <th>count</th>\n",
       "      <td>1.197000e+04</td>\n",
       "    </tr>\n",
       "    <tr>\n",
       "      <th>mean</th>\n",
       "      <td>4.909224e+04</td>\n",
       "    </tr>\n",
       "    <tr>\n",
       "      <th>std</th>\n",
       "      <td>1.557601e+05</td>\n",
       "    </tr>\n",
       "    <tr>\n",
       "      <th>min</th>\n",
       "      <td>-3.829897e+00</td>\n",
       "    </tr>\n",
       "    <tr>\n",
       "      <th>25%</th>\n",
       "      <td>6.904644e+02</td>\n",
       "    </tr>\n",
       "    <tr>\n",
       "      <th>50%</th>\n",
       "      <td>6.995000e+03</td>\n",
       "    </tr>\n",
       "    <tr>\n",
       "      <th>75%</th>\n",
       "      <td>2.610650e+04</td>\n",
       "    </tr>\n",
       "    <tr>\n",
       "      <th>max</th>\n",
       "      <td>2.134716e+06</td>\n",
       "    </tr>\n",
       "  </tbody>\n",
       "</table>\n",
       "</div>"
      ],
      "text/plain": [
       "             Salary\n",
       "count  1.197000e+04\n",
       "mean   4.909224e+04\n",
       "std    1.557601e+05\n",
       "min   -3.829897e+00\n",
       "25%    6.904644e+02\n",
       "50%    6.995000e+03\n",
       "75%    2.610650e+04\n",
       "max    2.134716e+06"
      ]
     },
     "execution_count": 39,
     "metadata": {},
     "output_type": "execute_result"
    }
   ],
   "source": [
    "mobility.describe()"
   ]
  },
  {
   "cell_type": "code",
   "execution_count": 40,
   "metadata": {},
   "outputs": [
    {
     "data": {
      "text/html": [
       "<div>\n",
       "<style scoped>\n",
       "    .dataframe tbody tr th:only-of-type {\n",
       "        vertical-align: middle;\n",
       "    }\n",
       "\n",
       "    .dataframe tbody tr th {\n",
       "        vertical-align: top;\n",
       "    }\n",
       "\n",
       "    .dataframe thead th {\n",
       "        text-align: right;\n",
       "    }\n",
       "</style>\n",
       "<table border=\"1\" class=\"dataframe\">\n",
       "  <thead>\n",
       "    <tr style=\"text-align: right;\">\n",
       "      <th></th>\n",
       "      <th>CustomerID</th>\n",
       "      <th>Genre</th>\n",
       "      <th>Age</th>\n",
       "      <th>Annual Income (k$)</th>\n",
       "      <th>Spending Score (1-100)</th>\n",
       "    </tr>\n",
       "  </thead>\n",
       "  <tbody>\n",
       "    <tr>\n",
       "      <th>0</th>\n",
       "      <td>1</td>\n",
       "      <td>Male</td>\n",
       "      <td>19</td>\n",
       "      <td>15</td>\n",
       "      <td>39</td>\n",
       "    </tr>\n",
       "    <tr>\n",
       "      <th>1</th>\n",
       "      <td>2</td>\n",
       "      <td>Male</td>\n",
       "      <td>21</td>\n",
       "      <td>15</td>\n",
       "      <td>81</td>\n",
       "    </tr>\n",
       "    <tr>\n",
       "      <th>2</th>\n",
       "      <td>3</td>\n",
       "      <td>Female</td>\n",
       "      <td>20</td>\n",
       "      <td>16</td>\n",
       "      <td>6</td>\n",
       "    </tr>\n",
       "    <tr>\n",
       "      <th>3</th>\n",
       "      <td>4</td>\n",
       "      <td>Female</td>\n",
       "      <td>23</td>\n",
       "      <td>16</td>\n",
       "      <td>77</td>\n",
       "    </tr>\n",
       "    <tr>\n",
       "      <th>4</th>\n",
       "      <td>5</td>\n",
       "      <td>Female</td>\n",
       "      <td>31</td>\n",
       "      <td>17</td>\n",
       "      <td>40</td>\n",
       "    </tr>\n",
       "    <tr>\n",
       "      <th>5</th>\n",
       "      <td>6</td>\n",
       "      <td>Female</td>\n",
       "      <td>22</td>\n",
       "      <td>17</td>\n",
       "      <td>76</td>\n",
       "    </tr>\n",
       "    <tr>\n",
       "      <th>6</th>\n",
       "      <td>7</td>\n",
       "      <td>Female</td>\n",
       "      <td>35</td>\n",
       "      <td>18</td>\n",
       "      <td>6</td>\n",
       "    </tr>\n",
       "  </tbody>\n",
       "</table>\n",
       "</div>"
      ],
      "text/plain": [
       "   CustomerID   Genre  Age  Annual Income (k$)  Spending Score (1-100)\n",
       "0           1    Male   19                  15                      39\n",
       "1           2    Male   21                  15                      81\n",
       "2           3  Female   20                  16                       6\n",
       "3           4  Female   23                  16                      77\n",
       "4           5  Female   31                  17                      40\n",
       "5           6  Female   22                  17                      76\n",
       "6           7  Female   35                  18                       6"
      ]
     },
     "execution_count": 40,
     "metadata": {},
     "output_type": "execute_result"
    }
   ],
   "source": [
    "d= pd.read_csv(\"8.csv\")\n",
    "d.head(7)"
   ]
  },
  {
   "cell_type": "code",
   "execution_count": 41,
   "metadata": {},
   "outputs": [
    {
     "data": {
      "text/plain": [
       "Age\n",
       "18     4\n",
       "19     8\n",
       "20     5\n",
       "21     5\n",
       "22     3\n",
       "23     6\n",
       "24     4\n",
       "25     3\n",
       "26     2\n",
       "27     6\n",
       "28     4\n",
       "29     5\n",
       "30     7\n",
       "31     8\n",
       "32    11\n",
       "33     3\n",
       "34     5\n",
       "35     9\n",
       "36     6\n",
       "37     3\n",
       "38     6\n",
       "39     3\n",
       "40     6\n",
       "41     2\n",
       "42     2\n",
       "43     3\n",
       "44     2\n",
       "45     3\n",
       "46     3\n",
       "47     6\n",
       "48     5\n",
       "49     7\n",
       "50     5\n",
       "51     2\n",
       "52     2\n",
       "53     2\n",
       "54     4\n",
       "55     1\n",
       "56     1\n",
       "57     2\n",
       "58     2\n",
       "59     4\n",
       "60     3\n",
       "63     2\n",
       "64     1\n",
       "65     2\n",
       "66     2\n",
       "67     4\n",
       "68     3\n",
       "69     1\n",
       "70     2\n",
       "Name: Age, dtype: int64"
      ]
     },
     "execution_count": 41,
     "metadata": {},
     "output_type": "execute_result"
    }
   ],
   "source": [
    "category = d.groupby(\"Age\")\n",
    "category[\"Age\"].count()"
   ]
  },
  {
   "cell_type": "code",
   "execution_count": 42,
   "metadata": {},
   "outputs": [
    {
     "data": {
      "text/plain": [
       "Genre\n",
       "Female    112\n",
       "Male       88\n",
       "Name: Genre, dtype: int64"
      ]
     },
     "execution_count": 42,
     "metadata": {},
     "output_type": "execute_result"
    }
   ],
   "source": [
    "y = d.groupby(\"Genre\")\n",
    "y[\"Genre\"].count()"
   ]
  },
  {
   "cell_type": "code",
   "execution_count": 43,
   "metadata": {},
   "outputs": [
    {
     "data": {
      "text/plain": [
       "<seaborn.axisgrid.FacetGrid at 0x27a1a850370>"
      ]
     },
     "execution_count": 43,
     "metadata": {},
     "output_type": "execute_result"
    },
    {
     "data": {
      "image/png": "[encoded data removed]",
      "text/plain": [
       "<Figure size 360x360 with 1 Axes>"
      ]
     },
     "metadata": {
      "needs_background": "light"
     },
     "output_type": "display_data"
    }
   ],
   "source": [
    "sns.displot(d.Age, bins = 10, kde = True)"
   ]
  },
  {
   "cell_type": "code",
   "execution_count": 44,
   "metadata": {},
   "outputs": [
    {
     "data": {
      "text/html": [
       "<div>\n",
       "<style scoped>\n",
       "    .dataframe tbody tr th:only-of-type {\n",
       "        vertical-align: middle;\n",
       "    }\n",
       "\n",
       "    .dataframe tbody tr th {\n",
       "        vertical-align: top;\n",
       "    }\n",
       "\n",
       "    .dataframe thead th {\n",
       "        text-align: right;\n",
       "    }\n",
       "</style>\n",
       "<table border=\"1\" class=\"dataframe\">\n",
       "  <thead>\n",
       "    <tr style=\"text-align: right;\">\n",
       "      <th></th>\n",
       "      <th>Series_reference</th>\n",
       "      <th>Period</th>\n",
       "      <th>Data_value</th>\n",
       "      <th>Suppressed</th>\n",
       "      <th>STATUS</th>\n",
       "      <th>UNITS</th>\n",
       "      <th>Magnitude</th>\n",
       "      <th>Subject</th>\n",
       "      <th>Group</th>\n",
       "      <th>Series_title_1</th>\n",
       "      <th>Series_title_2</th>\n",
       "      <th>Series_title_3</th>\n",
       "      <th>Series_title_4</th>\n",
       "      <th>Series_title_5</th>\n",
       "    </tr>\n",
       "  </thead>\n",
       "  <tbody>\n",
       "    <tr>\n",
       "      <th>0</th>\n",
       "      <td>WTSQ.SFA1CA</td>\n",
       "      <td>1995.03</td>\n",
       "      <td>2368.69</td>\n",
       "      <td>NaN</td>\n",
       "      <td>F</td>\n",
       "      <td>Dollars</td>\n",
       "      <td>6</td>\n",
       "      <td>Wholesale Trade Survey - WTS</td>\n",
       "      <td>Industry by variable - (ANZSIC06) - Subannual ...</td>\n",
       "      <td>Basic material wholesaling</td>\n",
       "      <td>Sales (operating income)</td>\n",
       "      <td>Current prices</td>\n",
       "      <td>Unadjusted</td>\n",
       "      <td>NaN</td>\n",
       "    </tr>\n",
       "    <tr>\n",
       "      <th>1</th>\n",
       "      <td>WTSQ.SFA1CA</td>\n",
       "      <td>1995.06</td>\n",
       "      <td>2100.44</td>\n",
       "      <td>NaN</td>\n",
       "      <td>F</td>\n",
       "      <td>Dollars</td>\n",
       "      <td>6</td>\n",
       "      <td>Wholesale Trade Survey - WTS</td>\n",
       "      <td>Industry by variable - (ANZSIC06) - Subannual ...</td>\n",
       "      <td>Basic material wholesaling</td>\n",
       "      <td>Sales (operating income)</td>\n",
       "      <td>Current prices</td>\n",
       "      <td>Unadjusted</td>\n",
       "      <td>NaN</td>\n",
       "    </tr>\n",
       "    <tr>\n",
       "      <th>2</th>\n",
       "      <td>WTSQ.SFA1CA</td>\n",
       "      <td>1995.09</td>\n",
       "      <td>2070.21</td>\n",
       "      <td>NaN</td>\n",
       "      <td>F</td>\n",
       "      <td>Dollars</td>\n",
       "      <td>6</td>\n",
       "      <td>Wholesale Trade Survey - WTS</td>\n",
       "      <td>Industry by variable - (ANZSIC06) - Subannual ...</td>\n",
       "      <td>Basic material wholesaling</td>\n",
       "      <td>Sales (operating income)</td>\n",
       "      <td>Current prices</td>\n",
       "      <td>Unadjusted</td>\n",
       "      <td>NaN</td>\n",
       "    </tr>\n",
       "    <tr>\n",
       "      <th>3</th>\n",
       "      <td>WTSQ.SFA1CA</td>\n",
       "      <td>1995.12</td>\n",
       "      <td>2284.77</td>\n",
       "      <td>NaN</td>\n",
       "      <td>F</td>\n",
       "      <td>Dollars</td>\n",
       "      <td>6</td>\n",
       "      <td>Wholesale Trade Survey - WTS</td>\n",
       "      <td>Industry by variable - (ANZSIC06) - Subannual ...</td>\n",
       "      <td>Basic material wholesaling</td>\n",
       "      <td>Sales (operating income)</td>\n",
       "      <td>Current prices</td>\n",
       "      <td>Unadjusted</td>\n",
       "      <td>NaN</td>\n",
       "    </tr>\n",
       "    <tr>\n",
       "      <th>4</th>\n",
       "      <td>WTSQ.SFA1CA</td>\n",
       "      <td>1996.03</td>\n",
       "      <td>2134.76</td>\n",
       "      <td>NaN</td>\n",
       "      <td>F</td>\n",
       "      <td>Dollars</td>\n",
       "      <td>6</td>\n",
       "      <td>Wholesale Trade Survey - WTS</td>\n",
       "      <td>Industry by variable - (ANZSIC06) - Subannual ...</td>\n",
       "      <td>Basic material wholesaling</td>\n",
       "      <td>Sales (operating income)</td>\n",
       "      <td>Current prices</td>\n",
       "      <td>Unadjusted</td>\n",
       "      <td>NaN</td>\n",
       "    </tr>\n",
       "    <tr>\n",
       "      <th>5</th>\n",
       "      <td>WTSQ.SFA1CA</td>\n",
       "      <td>1996.06</td>\n",
       "      <td>2038.45</td>\n",
       "      <td>NaN</td>\n",
       "      <td>F</td>\n",
       "      <td>Dollars</td>\n",
       "      <td>6</td>\n",
       "      <td>Wholesale Trade Survey - WTS</td>\n",
       "      <td>Industry by variable - (ANZSIC06) - Subannual ...</td>\n",
       "      <td>Basic material wholesaling</td>\n",
       "      <td>Sales (operating income)</td>\n",
       "      <td>Current prices</td>\n",
       "      <td>Unadjusted</td>\n",
       "      <td>NaN</td>\n",
       "    </tr>\n",
       "    <tr>\n",
       "      <th>6</th>\n",
       "      <td>WTSQ.SFA1CA</td>\n",
       "      <td>1996.09</td>\n",
       "      <td>2031.17</td>\n",
       "      <td>NaN</td>\n",
       "      <td>F</td>\n",
       "      <td>Dollars</td>\n",
       "      <td>6</td>\n",
       "      <td>Wholesale Trade Survey - WTS</td>\n",
       "      <td>Industry by variable - (ANZSIC06) - Subannual ...</td>\n",
       "      <td>Basic material wholesaling</td>\n",
       "      <td>Sales (operating income)</td>\n",
       "      <td>Current prices</td>\n",
       "      <td>Unadjusted</td>\n",
       "      <td>NaN</td>\n",
       "    </tr>\n",
       "  </tbody>\n",
       "</table>\n",
       "</div>"
      ],
      "text/plain": [
       "  Series_reference   Period  Data_value Suppressed STATUS    UNITS  Magnitude  \\\n",
       "0      WTSQ.SFA1CA  1995.03     2368.69        NaN      F  Dollars          6   \n",
       "1      WTSQ.SFA1CA  1995.06     2100.44        NaN      F  Dollars          6   \n",
       "2      WTSQ.SFA1CA  1995.09     2070.21        NaN      F  Dollars          6   \n",
       "3      WTSQ.SFA1CA  1995.12     2284.77        NaN      F  Dollars          6   \n",
       "4      WTSQ.SFA1CA  1996.03     2134.76        NaN      F  Dollars          6   \n",
       "5      WTSQ.SFA1CA  1996.06     2038.45        NaN      F  Dollars          6   \n",
       "6      WTSQ.SFA1CA  1996.09     2031.17        NaN      F  Dollars          6   \n",
       "\n",
       "                        Subject  \\\n",
       "0  Wholesale Trade Survey - WTS   \n",
       "1  Wholesale Trade Survey - WTS   \n",
       "2  Wholesale Trade Survey - WTS   \n",
       "3  Wholesale Trade Survey - WTS   \n",
       "4  Wholesale Trade Survey - WTS   \n",
       "5  Wholesale Trade Survey - WTS   \n",
       "6  Wholesale Trade Survey - WTS   \n",
       "\n",
       "                                               Group  \\\n",
       "0  Industry by variable - (ANZSIC06) - Subannual ...   \n",
       "1  Industry by variable - (ANZSIC06) - Subannual ...   \n",
       "2  Industry by variable - (ANZSIC06) - Subannual ...   \n",
       "3  Industry by variable - (ANZSIC06) - Subannual ...   \n",
       "4  Industry by variable - (ANZSIC06) - Subannual ...   \n",
       "5  Industry by variable - (ANZSIC06) - Subannual ...   \n",
       "6  Industry by variable - (ANZSIC06) - Subannual ...   \n",
       "\n",
       "               Series_title_1            Series_title_2  Series_title_3  \\\n",
       "0  Basic material wholesaling  Sales (operating income)  Current prices   \n",
       "1  Basic material wholesaling  Sales (operating income)  Current prices   \n",
       "2  Basic material wholesaling  Sales (operating income)  Current prices   \n",
       "3  Basic material wholesaling  Sales (operating income)  Current prices   \n",
       "4  Basic material wholesaling  Sales (operating income)  Current prices   \n",
       "5  Basic material wholesaling  Sales (operating income)  Current prices   \n",
       "6  Basic material wholesaling  Sales (operating income)  Current prices   \n",
       "\n",
       "  Series_title_4 Series_title_5  \n",
       "0     Unadjusted            NaN  \n",
       "1     Unadjusted            NaN  \n",
       "2     Unadjusted            NaN  \n",
       "3     Unadjusted            NaN  \n",
       "4     Unadjusted            NaN  \n",
       "5     Unadjusted            NaN  \n",
       "6     Unadjusted            NaN  "
      ]
     },
     "execution_count": 44,
     "metadata": {},
     "output_type": "execute_result"
    }
   ],
   "source": [
    "p = pd.read_csv(\"3.csv\")\n",
    "p.head(7)"
   ]
  },
  {
   "cell_type": "code",
   "execution_count": 45,
   "metadata": {},
   "outputs": [
    {
     "data": {
      "text/plain": [
       "UNITS\n",
       "Dollars    4326\n",
       "PERCENT     402\n",
       "Name: UNITS, dtype: int64"
      ]
     },
     "execution_count": 45,
     "metadata": {},
     "output_type": "execute_result"
    }
   ],
   "source": [
    "UNITS = p.groupby(\"UNITS\")\n",
    "UNITS[\"UNITS\"].count()"
   ]
  },
  {
   "cell_type": "code",
   "execution_count": 46,
   "metadata": {},
   "outputs": [
    {
     "data": {
      "text/plain": [
       "Group\n",
       "Industry by variable - (ANZSIC06) - Subannual Financial Collection                4326\n",
       "Industry by variable-(ANZSIC06)-Subannual Financial Collection, percent change     402\n",
       "Name: Group, dtype: int64"
      ]
     },
     "execution_count": 46,
     "metadata": {},
     "output_type": "execute_result"
    }
   ],
   "source": [
    "r = p.groupby(\"Group\")\n",
    "r[\"Group\"].count()"
   ]
  },
  {
   "cell_type": "code",
   "execution_count": 47,
   "metadata": {},
   "outputs": [
    {
     "data": {
      "text/plain": [
       "<seaborn.axisgrid.FacetGrid at 0x27a1a584040>"
      ]
     },
     "execution_count": 47,
     "metadata": {},
     "output_type": "execute_result"
    },
    {
     "data": {
      "image/png": "[encoded data removed]",
      "text/plain": [
       "<Figure size 360x360 with 1 Axes>"
      ]
     },
     "metadata": {
      "needs_background": "light"
     },
     "output_type": "display_data"
    }
   ],
   "source": [
    "sns.displot(p.Group, bins = 10, kde = True)"
   ]
  },
  {
   "cell_type": "code",
   "execution_count": 48,
   "metadata": {},
   "outputs": [
    {
     "data": {
      "text/html": [
       "<div>\n",
       "<style scoped>\n",
       "    .dataframe tbody tr th:only-of-type {\n",
       "        vertical-align: middle;\n",
       "    }\n",
       "\n",
       "    .dataframe tbody tr th {\n",
       "        vertical-align: top;\n",
       "    }\n",
       "\n",
       "    .dataframe thead th {\n",
       "        text-align: right;\n",
       "    }\n",
       "</style>\n",
       "<table border=\"1\" class=\"dataframe\">\n",
       "  <thead>\n",
       "    <tr style=\"text-align: right;\">\n",
       "      <th></th>\n",
       "      <th>Salary</th>\n",
       "    </tr>\n",
       "  </thead>\n",
       "  <tbody>\n",
       "    <tr>\n",
       "      <th>count</th>\n",
       "      <td>1.197000e+04</td>\n",
       "    </tr>\n",
       "    <tr>\n",
       "      <th>mean</th>\n",
       "      <td>4.909224e+04</td>\n",
       "    </tr>\n",
       "    <tr>\n",
       "      <th>std</th>\n",
       "      <td>1.557601e+05</td>\n",
       "    </tr>\n",
       "    <tr>\n",
       "      <th>min</th>\n",
       "      <td>-3.829897e+00</td>\n",
       "    </tr>\n",
       "    <tr>\n",
       "      <th>25%</th>\n",
       "      <td>6.904644e+02</td>\n",
       "    </tr>\n",
       "    <tr>\n",
       "      <th>50%</th>\n",
       "      <td>6.995000e+03</td>\n",
       "    </tr>\n",
       "    <tr>\n",
       "      <th>75%</th>\n",
       "      <td>2.610650e+04</td>\n",
       "    </tr>\n",
       "    <tr>\n",
       "      <th>max</th>\n",
       "      <td>2.134716e+06</td>\n",
       "    </tr>\n",
       "  </tbody>\n",
       "</table>\n",
       "</div>"
      ],
      "text/plain": [
       "             Salary\n",
       "count  1.197000e+04\n",
       "mean   4.909224e+04\n",
       "std    1.557601e+05\n",
       "min   -3.829897e+00\n",
       "25%    6.904644e+02\n",
       "50%    6.995000e+03\n",
       "75%    2.610650e+04\n",
       "max    2.134716e+06"
      ]
     },
     "execution_count": 48,
     "metadata": {},
     "output_type": "execute_result"
    }
   ],
   "source": [
    "mobility.describe()"
   ]
  },
  {
   "cell_type": "code",
   "execution_count": 49,
   "metadata": {},
   "outputs": [
    {
     "data": {
      "text/html": [
       "<div>\n",
       "<style scoped>\n",
       "    .dataframe tbody tr th:only-of-type {\n",
       "        vertical-align: middle;\n",
       "    }\n",
       "\n",
       "    .dataframe tbody tr th {\n",
       "        vertical-align: top;\n",
       "    }\n",
       "\n",
       "    .dataframe thead th {\n",
       "        text-align: right;\n",
       "    }\n",
       "</style>\n",
       "<table border=\"1\" class=\"dataframe\">\n",
       "  <thead>\n",
       "    <tr style=\"text-align: right;\">\n",
       "      <th></th>\n",
       "      <th>CustomerID</th>\n",
       "      <th>Age</th>\n",
       "      <th>Annual Income (k$)</th>\n",
       "      <th>Spending Score (1-100)</th>\n",
       "    </tr>\n",
       "  </thead>\n",
       "  <tbody>\n",
       "    <tr>\n",
       "      <th>count</th>\n",
       "      <td>200.000000</td>\n",
       "      <td>200.000000</td>\n",
       "      <td>200.000000</td>\n",
       "      <td>200.000000</td>\n",
       "    </tr>\n",
       "    <tr>\n",
       "      <th>mean</th>\n",
       "      <td>100.500000</td>\n",
       "      <td>38.850000</td>\n",
       "      <td>60.560000</td>\n",
       "      <td>50.200000</td>\n",
       "    </tr>\n",
       "    <tr>\n",
       "      <th>std</th>\n",
       "      <td>57.879185</td>\n",
       "      <td>13.969007</td>\n",
       "      <td>26.264721</td>\n",
       "      <td>25.823522</td>\n",
       "    </tr>\n",
       "    <tr>\n",
       "      <th>min</th>\n",
       "      <td>1.000000</td>\n",
       "      <td>18.000000</td>\n",
       "      <td>15.000000</td>\n",
       "      <td>1.000000</td>\n",
       "    </tr>\n",
       "    <tr>\n",
       "      <th>25%</th>\n",
       "      <td>50.750000</td>\n",
       "      <td>28.750000</td>\n",
       "      <td>41.500000</td>\n",
       "      <td>34.750000</td>\n",
       "    </tr>\n",
       "    <tr>\n",
       "      <th>50%</th>\n",
       "      <td>100.500000</td>\n",
       "      <td>36.000000</td>\n",
       "      <td>61.500000</td>\n",
       "      <td>50.000000</td>\n",
       "    </tr>\n",
       "    <tr>\n",
       "      <th>75%</th>\n",
       "      <td>150.250000</td>\n",
       "      <td>49.000000</td>\n",
       "      <td>78.000000</td>\n",
       "      <td>73.000000</td>\n",
       "    </tr>\n",
       "    <tr>\n",
       "      <th>max</th>\n",
       "      <td>200.000000</td>\n",
       "      <td>70.000000</td>\n",
       "      <td>137.000000</td>\n",
       "      <td>99.000000</td>\n",
       "    </tr>\n",
       "  </tbody>\n",
       "</table>\n",
       "</div>"
      ],
      "text/plain": [
       "       CustomerID         Age  Annual Income (k$)  Spending Score (1-100)\n",
       "count  200.000000  200.000000          200.000000              200.000000\n",
       "mean   100.500000   38.850000           60.560000               50.200000\n",
       "std     57.879185   13.969007           26.264721               25.823522\n",
       "min      1.000000   18.000000           15.000000                1.000000\n",
       "25%     50.750000   28.750000           41.500000               34.750000\n",
       "50%    100.500000   36.000000           61.500000               50.000000\n",
       "75%    150.250000   49.000000           78.000000               73.000000\n",
       "max    200.000000   70.000000          137.000000               99.000000"
      ]
     },
     "execution_count": 49,
     "metadata": {},
     "output_type": "execute_result"
    }
   ],
   "source": [
    "d.describe()"
   ]
  },
  {
   "cell_type": "code",
   "execution_count": 50,
   "metadata": {},
   "outputs": [
    {
     "data": {
      "text/html": [
       "<div>\n",
       "<style scoped>\n",
       "    .dataframe tbody tr th:only-of-type {\n",
       "        vertical-align: middle;\n",
       "    }\n",
       "\n",
       "    .dataframe tbody tr th {\n",
       "        vertical-align: top;\n",
       "    }\n",
       "\n",
       "    .dataframe thead th {\n",
       "        text-align: right;\n",
       "    }\n",
       "</style>\n",
       "<table border=\"1\" class=\"dataframe\">\n",
       "  <thead>\n",
       "    <tr style=\"text-align: right;\">\n",
       "      <th></th>\n",
       "      <th>Period</th>\n",
       "      <th>Data_value</th>\n",
       "      <th>Magnitude</th>\n",
       "    </tr>\n",
       "  </thead>\n",
       "  <tbody>\n",
       "    <tr>\n",
       "      <th>count</th>\n",
       "      <td>4728.000000</td>\n",
       "      <td>4714.000000</td>\n",
       "      <td>4728.000000</td>\n",
       "    </tr>\n",
       "    <tr>\n",
       "      <th>mean</th>\n",
       "      <td>2007.479404</td>\n",
       "      <td>3642.944221</td>\n",
       "      <td>5.489848</td>\n",
       "    </tr>\n",
       "    <tr>\n",
       "      <th>std</th>\n",
       "      <td>7.420092</td>\n",
       "      <td>4875.059750</td>\n",
       "      <td>1.673694</td>\n",
       "    </tr>\n",
       "    <tr>\n",
       "      <th>min</th>\n",
       "      <td>1995.030000</td>\n",
       "      <td>-27.800000</td>\n",
       "      <td>0.000000</td>\n",
       "    </tr>\n",
       "    <tr>\n",
       "      <th>25%</th>\n",
       "      <td>2001.060000</td>\n",
       "      <td>997.134250</td>\n",
       "      <td>6.000000</td>\n",
       "    </tr>\n",
       "    <tr>\n",
       "      <th>50%</th>\n",
       "      <td>2007.120000</td>\n",
       "      <td>2097.884000</td>\n",
       "      <td>6.000000</td>\n",
       "    </tr>\n",
       "    <tr>\n",
       "      <th>75%</th>\n",
       "      <td>2014.060000</td>\n",
       "      <td>4131.937750</td>\n",
       "      <td>6.000000</td>\n",
       "    </tr>\n",
       "    <tr>\n",
       "      <th>max</th>\n",
       "      <td>2020.090000</td>\n",
       "      <td>29838.982000</td>\n",
       "      <td>6.000000</td>\n",
       "    </tr>\n",
       "  </tbody>\n",
       "</table>\n",
       "</div>"
      ],
      "text/plain": [
       "            Period    Data_value    Magnitude\n",
       "count  4728.000000   4714.000000  4728.000000\n",
       "mean   2007.479404   3642.944221     5.489848\n",
       "std       7.420092   4875.059750     1.673694\n",
       "min    1995.030000    -27.800000     0.000000\n",
       "25%    2001.060000    997.134250     6.000000\n",
       "50%    2007.120000   2097.884000     6.000000\n",
       "75%    2014.060000   4131.937750     6.000000\n",
       "max    2020.090000  29838.982000     6.000000"
      ]
     },
     "execution_count": 50,
     "metadata": {},
     "output_type": "execute_result"
    }
   ],
   "source": [
    "p.describe()"
   ]
  },
  {
   "cell_type": "code",
   "execution_count": null,
   "metadata": {},
   "outputs": [],
   "source": []
  }
 ],
 "metadata": {
  "kernelspec": {
   "display_name": "Python 3",
   "language": "python",
   "name": "python3"
  },
  "language_info": {
   "codemirror_mode": {
    "name": "ipython",
    "version": 3
   },
   "file_extension": ".py",
   "mimetype": "text/x-python",
   "name": "python",
   "nbconvert_exporter": "python",
   "pygments_lexer": "ipython3",
   "version": "3.9.1"
  }
 },
 "nbformat": 4,
 "nbformat_minor": 4
}
