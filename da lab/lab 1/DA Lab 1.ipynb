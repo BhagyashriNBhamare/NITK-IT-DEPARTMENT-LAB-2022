{
 "cells": [
  {
   "cell_type": "code",
   "execution_count": 1,
   "metadata": {},
   "outputs": [
    {
     "ename": "NameError",
     "evalue": "name 'df' is not defined",
     "output_type": "error",
     "traceback": [
      "\u001b[1;31m---------------------------------------------------------------------------\u001b[0m",
      "\u001b[1;31mNameError\u001b[0m                                 Traceback (most recent call last)",
      "\u001b[1;32m<ipython-input-1-ae653ff68977>\u001b[0m in \u001b[0;36m<module>\u001b[1;34m\u001b[0m\n\u001b[0;32m      6\u001b[0m \u001b[1;31m# mobility.head(7)\u001b[0m\u001b[1;33m\u001b[0m\u001b[1;33m\u001b[0m\u001b[1;33m\u001b[0m\u001b[0m\n\u001b[0;32m      7\u001b[0m \u001b[1;32mfor\u001b[0m \u001b[0mx\u001b[0m \u001b[1;32min\u001b[0m \u001b[0mrange\u001b[0m\u001b[1;33m(\u001b[0m\u001b[1;36m11972\u001b[0m\u001b[1;33m)\u001b[0m\u001b[1;33m:\u001b[0m\u001b[1;33m\u001b[0m\u001b[1;33m\u001b[0m\u001b[0m\n\u001b[1;32m----> 8\u001b[1;33m     \u001b[1;32mif\u001b[0m \u001b[0mmobility\u001b[0m\u001b[1;33m.\u001b[0m\u001b[0miloc\u001b[0m\u001b[1;33m[\u001b[0m\u001b[0mx\u001b[0m\u001b[1;33m,\u001b[0m\u001b[0mdf\u001b[0m\u001b[1;33m.\u001b[0m\u001b[0mcolumns\u001b[0m\u001b[1;33m.\u001b[0m\u001b[0mget_loc\u001b[0m\u001b[1;33m(\u001b[0m\u001b[1;34m'Salary'\u001b[0m\u001b[1;33m)\u001b[0m\u001b[1;33m]\u001b[0m\u001b[1;33m<\u001b[0m\u001b[1;36m20000\u001b[0m\u001b[1;33m:\u001b[0m\u001b[1;33m\u001b[0m\u001b[1;33m\u001b[0m\u001b[0m\n\u001b[0m\u001b[0;32m      9\u001b[0m         \u001b[0mmobility\u001b[0m\u001b[1;33m.\u001b[0m\u001b[0miloc\u001b[0m\u001b[1;33m[\u001b[0m\u001b[0mx\u001b[0m\u001b[1;33m,\u001b[0m\u001b[0mdf\u001b[0m\u001b[1;33m.\u001b[0m\u001b[0mcolumns\u001b[0m\u001b[1;33m.\u001b[0m\u001b[0mget_loc\u001b[0m\u001b[1;33m(\u001b[0m\u001b[1;34m'Salary'\u001b[0m\u001b[1;33m)\u001b[0m\u001b[1;33m]\u001b[0m\u001b[1;33m=\u001b[0m\u001b[0mmobility\u001b[0m\u001b[1;33m.\u001b[0m\u001b[0miloc\u001b[0m\u001b[1;33m[\u001b[0m\u001b[0mx\u001b[0m\u001b[1;33m,\u001b[0m\u001b[0mdf\u001b[0m\u001b[1;33m.\u001b[0m\u001b[0mcolumns\u001b[0m\u001b[1;33m.\u001b[0m\u001b[0mget_loc\u001b[0m\u001b[1;33m(\u001b[0m\u001b[1;34m'Salary'\u001b[0m\u001b[1;33m)\u001b[0m\u001b[1;33m]\u001b[0m\u001b[1;33m+\u001b[0m\u001b[1;36m15000\u001b[0m\u001b[1;33m\u001b[0m\u001b[1;33m\u001b[0m\u001b[0m\n\u001b[0;32m     10\u001b[0m \u001b[0mnum\u001b[0m \u001b[1;33m=\u001b[0m \u001b[0mmobility\u001b[0m\u001b[1;33m[\u001b[0m\u001b[1;34m\"Salary\"\u001b[0m\u001b[1;33m]\u001b[0m\u001b[1;33m.\u001b[0m\u001b[0mmax\u001b[0m\u001b[1;33m(\u001b[0m\u001b[1;33m)\u001b[0m\u001b[1;33m\u001b[0m\u001b[1;33m\u001b[0m\u001b[0m\n",
      "\u001b[1;31mNameError\u001b[0m: name 'df' is not defined"
     ]
    }
   ],
   "source": [
    "import pandas as pd\n",
    "import seaborn as sns\n",
    "import matplotlib.pyplot as plt\n",
    "%matplotlib inline\n",
    "mobility = pd.read_csv(\"4.csv\")\n",
    "# mobility.head(7)\n",
    "for x in range(11972): \n",
    "    if mobility.iloc[x,df.columns.get_loc('Salary')]<20000:\n",
    "        mobility.iloc[x,df.columns.get_loc('Salary')]=mobility.iloc[x,df.columns.get_loc('Salary')]+15000        \n",
    "num = mobility[\"Salary\"].max()\n",
    "print(num)\n",
    "num = mobility[\"Salary\"].min()\n",
    "print(num)\n",
    "\n",
    "print(mobility[\"Salary\"].mean())\n",
    "print(mobility[\"Salary\"].std())\n"
   ]
  },
  {
   "cell_type": "code",
   "execution_count": 2,
   "metadata": {},
   "outputs": [
    {
     "name": "stdout",
     "output_type": "stream",
     "text": [
      "49095.43741583634\n"
     ]
    }
   ],
   "source": [
    "import math\n",
    "num = mobility[\"Salary\"].mean()\n",
    "print(num)"
   ]
  },
  {
   "cell_type": "code",
   "execution_count": 37,
   "metadata": {},
   "outputs": [
    {
     "name": "stdout",
     "output_type": "stream",
     "text": [
      "    Series_reference        Salary STATUS                         Subject  \\\n",
      "38       BDCQ.SEA1BA  20234.000000      F  Business Data Collection - BDC   \n",
      "39       BDCQ.SEA1BA  20268.000000      F  Business Data Collection - BDC   \n",
      "40       BDCQ.SEA1BA  20499.000000      F  Business Data Collection - BDC   \n",
      "41       BDCQ.SEA1BA  20811.000000      F  Business Data Collection - BDC   \n",
      "42       BDCQ.SEA1BA  20847.000000      F  Business Data Collection - BDC   \n",
      "..               ...           ...    ...                             ...   \n",
      "831      BDCQ.SEA2BA  15143.483475      F  Business Data Collection - BDC   \n",
      "832      BDCQ.SEA2BA  15145.691572      F  Business Data Collection - BDC   \n",
      "833      BDCQ.SEA2BA  15139.116120      F  Business Data Collection - BDC   \n",
      "834      BDCQ.SEA2BA  15143.740182      F  Business Data Collection - BDC   \n",
      "835      BDCQ.SEA2BA  15146.257081      F  Business Data Collection - BDC   \n",
      "\n",
      "                               Group Industry  \n",
      "38   Industry by employment variable   Mining  \n",
      "39   Industry by employment variable   Mining  \n",
      "40   Industry by employment variable   Mining  \n",
      "41   Industry by employment variable   Mining  \n",
      "42   Industry by employment variable   Mining  \n",
      "..                               ...      ...  \n",
      "831  Industry by employment variable   Mining  \n",
      "832  Industry by employment variable   Mining  \n",
      "833  Industry by employment variable   Mining  \n",
      "834  Industry by employment variable   Mining  \n",
      "835  Industry by employment variable   Mining  \n",
      "\n",
      "[76 rows x 6 columns]\n"
     ]
    }
   ],
   "source": [
    "import pandas\n",
    "import random\n",
    "\n",
    "# filename = \"4.csv\"\n",
    "# n = sum(1 for line in open(filename)) - 1 #number of records in file (excludes header)\n",
    "# print(n)\n",
    "# s = 1000 #desired sample size\n",
    "# skip = sorted(random.sample(range(1,n+1),n-s)) #the 0-indexed header will not be included in the skip list\n",
    "# df = pandas.read_csv(filename, skiprows=skip)\n",
    "# for x in range(s): \n",
    "#     if df.iloc[x,df.columns.get_loc('Salary')]<20000:\n",
    "#         df.iloc[x,df.columns.get_loc('Salary')]=mobility.iloc[x,df.columns.get_loc('Salary')]+15000 \n",
    "# print(df)\n",
    "df = mobility[mobility[\"Industry\"]==\"Mining\"]\n",
    "print(df)\n",
    "s=76"
   ]
  },
  {
   "cell_type": "code",
   "execution_count": 38,
   "metadata": {},
   "outputs": [
    {
     "name": "stdout",
     "output_type": "stream",
     "text": [
      "Standard deviation of sample:  4775.949189424417\n",
      "Sample mean:  17779.226535644735\n",
      "Population mean:  59414.98628801679\n",
      "Population standard deviation:  152955.50320130654\n",
      "Sample size:  76\n",
      "Z-score: 2.373057070843302\n"
     ]
    }
   ],
   "source": [
    "import math\n",
    "num = mobility[\"Salary\"].mean() -df[\"Salary\"].mean()\n",
    "# print(df[\"Salary\"].std())\n",
    "sample_size = s\n",
    "den = math.sqrt(sample_size)\n",
    "med = (num*num)/s\n",
    "standard_population = mobility[\"Salary\"].std()\n",
    "standard_sample = math.sqrt(med)\n",
    "print(\"Standard deviation of sample: \", standard_sample)\n",
    "sample_mean = df[\"Salary\"].mean()\n",
    "population_mean = mobility[\"Salary\"].mean()\n",
    "\n",
    "z_score = (abs(population_mean - sample_mean))/(standard_population/den)\n",
    "print(\"Sample mean: \", sample_mean)\n",
    "print(\"Population mean: \", population_mean)\n",
    "print(\"Population standard deviation: \", standard_population)\n",
    "print(\"Sample size: \", sample_size)\n",
    "print(\"Z-score:\",z_score)\n"
   ]
  },
  {
   "cell_type": "code",
   "execution_count": 31,
   "metadata": {},
   "outputs": [
    {
     "data": {
      "text/plain": [
       "Industry\n",
       "15-19                  76\n",
       "20-24                  76\n",
       "25-29                  76\n",
       "30-34                  76\n",
       "35-39                  76\n",
       "                     ... \n",
       "Westland District     114\n",
       "Whakatane District    114\n",
       "Whanganui District    114\n",
       "Whangarei District    114\n",
       "Wholesale Trade        76\n",
       "Name: Industry, Length: 116, dtype: int64"
      ]
     },
     "execution_count": 31,
     "metadata": {},
     "output_type": "execute_result"
    }
   ],
   "source": [
    "country = mobility.groupby(\"Industry\")\n",
    "country[\"Industry\"].count()"
   ]
  },
  {
   "cell_type": "code",
   "execution_count": null,
   "metadata": {},
   "outputs": [],
   "source": [
    "country = mobility.groupby(\"Subject\")\n",
    "country[\"Subject\"].count()"
   ]
  },
  {
   "cell_type": "code",
   "execution_count": null,
   "metadata": {},
   "outputs": [],
   "source": [
    "country = mobility.groupby(\"Group\")\n",
    "country[\"Group\"].count()"
   ]
  },
  {
   "cell_type": "code",
   "execution_count": null,
   "metadata": {},
   "outputs": [],
   "source": [
    "country = mobility.groupby(\"Series_reference\")\n",
    "country[\"Series_reference\"].count()"
   ]
  },
  {
   "cell_type": "code",
   "execution_count": null,
   "metadata": {},
   "outputs": [],
   "source": [
    "gender= mobility.groupby(\"STATUS\")\n",
    "gender[\"STATUS\"].count()"
   ]
  },
  {
   "cell_type": "code",
   "execution_count": null,
   "metadata": {},
   "outputs": [],
   "source": [
    "country = mobility.groupby(\"Industry\")\n",
    "country[\"Industry\"].count()"
   ]
  },
  {
   "cell_type": "code",
   "execution_count": null,
   "metadata": {},
   "outputs": [],
   "source": [
    "sns.countplot(x=mobility.STATUS,data=mobility)"
   ]
  },
  {
   "cell_type": "code",
   "execution_count": null,
   "metadata": {},
   "outputs": [],
   "source": [
    "sns.countplot(x=mobility.Series_reference,data=mobility)"
   ]
  },
  {
   "cell_type": "code",
   "execution_count": null,
   "metadata": {},
   "outputs": [],
   "source": [
    "sns.countplot(x=mobility.Group,data=mobility)"
   ]
  },
  {
   "cell_type": "code",
   "execution_count": null,
   "metadata": {},
   "outputs": [],
   "source": [
    "sns.countplot(x=mobility.Industry,data=mobility)"
   ]
  },
  {
   "cell_type": "code",
   "execution_count": null,
   "metadata": {},
   "outputs": [],
   "source": []
  },
  {
   "cell_type": "code",
   "execution_count": null,
   "metadata": {},
   "outputs": [],
   "source": [
    "mobility.describe()"
   ]
  },
  {
   "cell_type": "code",
   "execution_count": null,
   "metadata": {},
   "outputs": [],
   "source": [
    "d= pd.read_csv(\"8.csv\")\n",
    "d.head(7)"
   ]
  },
  {
   "cell_type": "code",
   "execution_count": null,
   "metadata": {},
   "outputs": [],
   "source": [
    "category = d.groupby(\"Age\")\n",
    "category[\"Age\"].count()"
   ]
  },
  {
   "cell_type": "code",
   "execution_count": null,
   "metadata": {},
   "outputs": [],
   "source": [
    "y = d.groupby(\"Genre\")\n",
    "y[\"Genre\"].count()"
   ]
  },
  {
   "cell_type": "code",
   "execution_count": null,
   "metadata": {},
   "outputs": [],
   "source": [
    "sns.displot(d.Age, bins = 10, kde = True)"
   ]
  },
  {
   "cell_type": "code",
   "execution_count": null,
   "metadata": {},
   "outputs": [],
   "source": [
    "p = pd.read_csv(\"3.csv\")\n",
    "p.head(7)"
   ]
  },
  {
   "cell_type": "code",
   "execution_count": null,
   "metadata": {},
   "outputs": [],
   "source": [
    "UNITS = p.groupby(\"UNITS\")\n",
    "UNITS[\"UNITS\"].count()"
   ]
  },
  {
   "cell_type": "code",
   "execution_count": null,
   "metadata": {},
   "outputs": [],
   "source": [
    "r = p.groupby(\"Group\")\n",
    "r[\"Group\"].count()"
   ]
  },
  {
   "cell_type": "code",
   "execution_count": null,
   "metadata": {},
   "outputs": [],
   "source": [
    "sns.displot(p.Group, bins = 10, kde = True)"
   ]
  },
  {
   "cell_type": "code",
   "execution_count": null,
   "metadata": {},
   "outputs": [],
   "source": [
    "mobility.describe()"
   ]
  },
  {
   "cell_type": "code",
   "execution_count": null,
   "metadata": {},
   "outputs": [],
   "source": [
    "d.describe()"
   ]
  },
  {
   "cell_type": "code",
   "execution_count": null,
   "metadata": {},
   "outputs": [],
   "source": [
    "p.describe()"
   ]
  }
 ],
 "metadata": {
  "kernelspec": {
   "display_name": "Python 3",
   "language": "python",
   "name": "python3"
  },
  "language_info": {
   "codemirror_mode": {
    "name": "ipython",
    "version": 3
   },
   "file_extension": ".py",
   "mimetype": "text/x-python",
   "name": "python",
   "nbconvert_exporter": "python",
   "pygments_lexer": "ipython3",
   "version": "3.9.1"
  }
 },
 "nbformat": 4,
 "nbformat_minor": 4
}
